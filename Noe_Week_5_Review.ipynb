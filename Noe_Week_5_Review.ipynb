{
  "nbformat": 4,
  "nbformat_minor": 0,
  "metadata": {
    "colab": {
      "provenance": [],
      "include_colab_link": true
    },
    "kernelspec": {
      "name": "python3",
      "display_name": "Python 3"
    },
    "language_info": {
      "name": "python"
    }
  },
  "cells": [
    {
      "cell_type": "markdown",
      "metadata": {
        "id": "view-in-github",
        "colab_type": "text"
      },
      "source": [
        "<a href=\"https://colab.research.google.com/github/NoeLopez510/HackTheHoodHustle/blob/main/Noe_Week_5_Review.ipynb\" target=\"_parent\"><img src=\"https://colab.research.google.com/assets/colab-badge.svg\" alt=\"Open In Colab\"/></a>"
      ]
    },
    {
      "cell_type": "code",
      "execution_count": 1,
      "metadata": {
        "id": "t3vgK3HRV4K7"
      },
      "outputs": [],
      "source": [
        "# Pseudocode - Your thoughts\n",
        "\n",
        "#This file will be a review of data types, lists, conditionals, and loops."
      ]
    },
    {
      "cell_type": "markdown",
      "source": [
        "Lists"
      ],
      "metadata": {
        "id": "eABKiO-EXdNC"
      }
    },
    {
      "cell_type": "code",
      "source": [
        "# Make an integer variable and print it\n",
        "number = 23\n",
        "print(number)\n",
        "# Make a string variable and print it\n",
        "best_team = \"FC Bayern Munchen\"\n",
        "print(best_team)\n",
        "# Make a two different boolean variables and print them\n",
        "i_have_3_eyes = False\n",
        "i_have_2_eyes = True\n",
        "print(i_have_3_eyes)\n",
        "print(i_have_2_eyes)\n",
        "# Make a float variable and print it\n",
        "pi_x = 3.14159\n",
        "print(pi_x)\n",
        "\n",
        "# Add two integers and print it\n",
        "x2 = 5\n",
        "y2 = 10\n",
        "print(x2+y2)\n",
        "# Subtract two floats and print it\n",
        "x3 = 3.14\n",
        "y3 = 2.11\n",
        "print(x3-y3)\n",
        "# Put two strings together\n",
        "thing1 = \"really\"\n",
        "thing2 = \"cool\"\n",
        "print(thing1 +' '+ thing2)#concatenating\n",
        "#f-strings\n",
        "print(f\"{thing1}{thing2}\")"
      ],
      "metadata": {
        "colab": {
          "base_uri": "https://localhost:8080/"
        },
        "id": "CtQkFpdTXqzz",
        "outputId": "76baaa8f-543c-4cc3-a2fa-1eded08decd6"
      },
      "execution_count": 3,
      "outputs": [
        {
          "output_type": "stream",
          "name": "stdout",
          "text": [
            "23\n",
            "FC Bayern Munchen\n",
            "False\n",
            "True\n",
            "3.14159\n",
            "15\n",
            "1.0300000000000002\n",
            "really cool\n"
          ]
        }
      ]
    },
    {
      "cell_type": "markdown",
      "source": [
        "Lists"
      ],
      "metadata": {
        "id": "EiT4V-2jcIdO"
      }
    },
    {
      "cell_type": "code",
      "source": [
        "# 1. Create a list and then print it, making sure to give it a descriptive variable name:\n",
        "my_shoes = ['nike', 'jordan', 'adidas']\n",
        "\n",
        "# 2. Index practice with this list\n",
        "my_colors = ['green', 'blue', 'pink', 'acquamarine']\n",
        "\n",
        "# 2a. Print the third color through indexing\n",
        "print(my_colors[2])\n",
        "\n",
        "# 2b. Print the last color through indexing\n",
        "\n",
        "print(my_colors[3])\n",
        "# 2c. Print the first three colors through indexing\n",
        "print(my_colors[0:3])\n",
        "\n",
        "\n",
        "# 2d. Set up the print statement so the output is: green  pink blue\n",
        "print(my_colors[0], my_colors[2], my_colors[1])\n"
      ],
      "metadata": {
        "id": "hIryFqMAcJ-b",
        "outputId": "0f733cbd-53e5-4049-f4db-5a717f82ccbc",
        "colab": {
          "base_uri": "https://localhost:8080/"
        }
      },
      "execution_count": 11,
      "outputs": [
        {
          "output_type": "stream",
          "name": "stdout",
          "text": [
            "pink\n",
            "acquamarine\n",
            "['green', 'blue', 'pink']\n",
            "green pink blue\n"
          ]
        }
      ]
    },
    {
      "cell_type": "markdown",
      "source": [
        "Conditionals"
      ],
      "metadata": {
        "id": "mIqyGApTgGxx"
      }
    },
    {
      "cell_type": "code",
      "source": [
        "# Step 1: Simple if statement with arithmetic operators\n",
        "age = int(input(\"How old are you? \"))\n",
        "check_age = age + 4\n",
        "\n",
        "if age >= 18:\n",
        "  print('you can vote')\n",
        "elif check_age >=18:\n",
        "  print(\"You can vote next time\")\n",
        "else:\n",
        "  print(\"sorry, you can't vote yet.\")"
      ],
      "metadata": {
        "id": "aNKYDkXZgJLf",
        "outputId": "19ad389c-9c36-4ec9-cb4e-c26dbbe85439",
        "colab": {
          "base_uri": "https://localhost:8080/"
        }
      },
      "execution_count": 18,
      "outputs": [
        {
          "output_type": "stream",
          "name": "stdout",
          "text": [
            "How old are you? 66\n",
            "you can vote\n"
          ]
        }
      ]
    },
    {
      "cell_type": "markdown",
      "source": [
        "Loops"
      ],
      "metadata": {
        "id": "IwqIQmWMnXs-"
      }
    },
    {
      "cell_type": "code",
      "source": [
        "#While loops\n",
        "\n",
        "current_hour = 1\n",
        "\n",
        "while current_hour < 24:\n",
        "  print(f\"The current time is {current_hour} o'clock\")\n",
        "  current_hour += 1"
      ],
      "metadata": {
        "id": "1PTyZUHKnZXO",
        "outputId": "3b54345f-0030-4fd9-9ca8-f9b4efd60ebd",
        "colab": {
          "base_uri": "https://localhost:8080/"
        }
      },
      "execution_count": 22,
      "outputs": [
        {
          "output_type": "stream",
          "name": "stdout",
          "text": [
            "The current time is 1 o'clock\n",
            "The current time is 2 o'clock\n",
            "The current time is 3 o'clock\n",
            "The current time is 4 o'clock\n",
            "The current time is 5 o'clock\n",
            "The current time is 6 o'clock\n",
            "The current time is 7 o'clock\n",
            "The current time is 8 o'clock\n",
            "The current time is 9 o'clock\n",
            "The current time is 10 o'clock\n",
            "The current time is 11 o'clock\n",
            "The current time is 12 o'clock\n",
            "The current time is 13 o'clock\n",
            "The current time is 14 o'clock\n",
            "The current time is 15 o'clock\n",
            "The current time is 16 o'clock\n",
            "The current time is 17 o'clock\n",
            "The current time is 18 o'clock\n",
            "The current time is 19 o'clock\n",
            "The current time is 20 o'clock\n",
            "The current time is 21 o'clock\n",
            "The current time is 22 o'clock\n",
            "The current time is 23 o'clock\n"
          ]
        }
      ]
    },
    {
      "cell_type": "code",
      "source": [
        "# For loops\n",
        "\n",
        "zoo = ['elephant', 'giraffe', 'hippo', 'lion']\n",
        "\n",
        "zoo_size = len(zoo)\n",
        "\n",
        "# print(zoo_size)\n",
        "# print(range(zoo_size))\n",
        "\n",
        "for zoo_spot_num in range(zoo_size):\n",
        "  # print(zoo_spot_num)\n",
        "  # print(zoo[zoo_spot_num])\n",
        "  print(f\"Welcome to space # {zoo_spot_num + 1}! Here, we have {zoo[zoo_spot_num]}\")\n"
      ],
      "metadata": {
        "id": "EKIZFpORpf0e"
      },
      "execution_count": null,
      "outputs": []
    }
  ]
}