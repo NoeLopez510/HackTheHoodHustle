{
  "nbformat": 4,
  "nbformat_minor": 0,
  "metadata": {
    "colab": {
      "provenance": [],
      "authorship_tag": "ABX9TyMakdthMldgeYVUlkrSvpg2",
      "include_colab_link": true
    },
    "kernelspec": {
      "name": "python3",
      "display_name": "Python 3"
    },
    "language_info": {
      "name": "python"
    }
  },
  "cells": [
    {
      "cell_type": "markdown",
      "metadata": {
        "id": "view-in-github",
        "colab_type": "text"
      },
      "source": [
        "<a href=\"https://colab.research.google.com/github/NoeLopez510/HackTheHoodHustle/blob/main/review_week_4.ipynb\" target=\"_parent\"><img src=\"https://colab.research.google.com/assets/colab-badge.svg\" alt=\"Open In Colab\"/></a>"
      ]
    },
    {
      "cell_type": "markdown",
      "source": [
        "#Inputs"
      ],
      "metadata": {
        "id": "9y1-spvyR3xA"
      }
    },
    {
      "cell_type": "code",
      "source": [
        "# Step 1: Get the user's name as input\n",
        "\n",
        "user_name = input(\"What is your name?\")\n",
        "\n",
        "print(f\"Hello {user_name}, welcome to the zoom call!!!\")\n",
        "\n",
        "# Step 2: Get the user's age as input and convert it to an integer\n",
        "\n",
        "user_age = int(input(\"What is your age\"))\n",
        "\n",
        "print(user_age)\n",
        "print(type(user_age))\n",
        "\n",
        "#Calculate the user's age in 5 years.\n",
        "future_age = user_age + 5\n",
        "\n",
        "\n",
        "#Step 4: Give me an f-string that calls the user_name and future_age\n",
        "\n",
        "print(f\"Hello {user_name}, you will be {future_age} years old in 5 years!\")\n"
      ],
      "metadata": {
        "colab": {
          "base_uri": "https://localhost:8080/"
        },
        "id": "BRXTlJONUYMl",
        "outputId": "a6ce320c-2e4d-4d67-eaa2-dde76189672e"
      },
      "execution_count": 13,
      "outputs": [
        {
          "output_type": "stream",
          "name": "stdout",
          "text": [
            "What is your name?Noe\n",
            "Hello Noe, welcome to the zoom call!!!\n",
            "What is your age25\n",
            "25\n",
            "<class 'int'>\n",
            "Hello Noe, you will be 30 years old in 5 years!\n"
          ]
        }
      ]
    },
    {
      "cell_type": "markdown",
      "source": [
        "Conditionals\n"
      ],
      "metadata": {
        "id": "OXE2tzNoeZXD"
      }
    },
    {
      "cell_type": "code",
      "source": [
        "#Step 1: Introducing if and else with comparison operators\n",
        "\n",
        "age = int(input(\"What is your age? Whole numbers only please!\"))\n",
        "\n",
        "future_age = age + 2\n",
        "\n",
        "if age >= 18:\n",
        "  print(\"You can go vote\")\n",
        "elif future_age >= 18:\n",
        "  print(\"You can vote in 2 years\")\n",
        "else:\n",
        "    (\"You can't go vote yet\")"
      ],
      "metadata": {
        "colab": {
          "base_uri": "https://localhost:8080/"
        },
        "id": "fd4uufuRedJI",
        "outputId": "24634b0c-7b6d-4109-afc9-132febd1529d"
      },
      "execution_count": 16,
      "outputs": [
        {
          "output_type": "stream",
          "name": "stdout",
          "text": [
            "What is your age? Whole numbers only please!17\n",
            "You can vote in 2 years\n"
          ]
        }
      ]
    },
    {
      "cell_type": "markdown",
      "source": [
        "Membership operator"
      ],
      "metadata": {
        "id": "XrZhR99aj98b"
      }
    },
    {
      "cell_type": "code",
      "source": [
        "# Step 3: Using membership operators to check membership in a list\n",
        "buy_fruit = input(\"What fruit would you like to buy?\")\n",
        "\n",
        "fruits = [\"apple\", \"banana\", \"orange\", \"grape\", \"pineapple\"]\n",
        "\n",
        "if buy_fruit in fruits:\n",
        "  print(\"We have that fruit\")\n",
        "else:\n",
        "  print(f\"{buy_fruit.lower()} is not in the list of fruits.\")"
      ],
      "metadata": {
        "colab": {
          "base_uri": "https://localhost:8080/"
        },
        "id": "YgLu9BZYkA-6",
        "outputId": "46de838f-a528-4e2c-d897-7cd1cf869713"
      },
      "execution_count": 17,
      "outputs": [
        {
          "output_type": "stream",
          "name": "stdout",
          "text": [
            "What fruit would you like to buy?apple\n",
            "We have that fruit\n"
          ]
        }
      ]
    },
    {
      "cell_type": "markdown",
      "source": [
        "Operators"
      ],
      "metadata": {
        "id": "m7bB9kuclv7U"
      }
    },
    {
      "cell_type": "code",
      "source": [
        "# Mini Step 4.0: Handling Yes or No Input with Truthy or Falsey Outcome\n",
        "# We will get a yes or no input from the user and convert it to a boolean value\n",
        "\n",
        "# Get input from the user\n",
        "response = input(\"Do you have permission from your parents? (yes/no): \").lower()\n",
        "\n",
        "#Convert input to boolean value\n",
        "\n",
        "has_permission = (response == \"yes\")\n",
        "\n",
        "print(\"boolean value for has_permission\")\n",
        "\n",
        "if has_permission == \"yes\":\n",
        "  print(\"you can enter the building\")\n",
        "else:\n",
        "  print(\"you can't enter the building\")\n",
        "\n",
        "#4.1 Using 'and' operator:\n",
        "age = int(input(\"Please enter your age: \"))\n",
        "\n",
        "if age >= 18 and has_permission:\n",
        "  print(\"Welcome to the club!\")\n",
        "else:\n",
        "  print(\"No, get out\")\n",
        "\n"
      ],
      "metadata": {
        "id": "hrb5hYomlxs8"
      },
      "execution_count": null,
      "outputs": []
    }
  ]
}