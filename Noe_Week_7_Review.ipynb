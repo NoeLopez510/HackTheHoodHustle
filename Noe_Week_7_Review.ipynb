{
  "nbformat": 4,
  "nbformat_minor": 0,
  "metadata": {
    "colab": {
      "provenance": [],
      "authorship_tag": "ABX9TyPRvVqWrD1xvhAjteGwn5vS",
      "include_colab_link": true
    },
    "kernelspec": {
      "name": "python3",
      "display_name": "Python 3"
    },
    "language_info": {
      "name": "python"
    }
  },
  "cells": [
    {
      "cell_type": "markdown",
      "metadata": {
        "id": "view-in-github",
        "colab_type": "text"
      },
      "source": [
        "<a href=\"https://colab.research.google.com/github/NoeLopez510/HackTheHoodHustle/blob/main/Noe_Week_7_Review.ipynb\" target=\"_parent\"><img src=\"https://colab.research.google.com/assets/colab-badge.svg\" alt=\"Open In Colab\"/></a>"
      ]
    },
    {
      "cell_type": "markdown",
      "source": [
        "#Inputs\n",
        "Make sure you are asking the user a CLEAR Question\n",
        "\n",
        "Remember thats inputs return value as a string.\n",
        "\n",
        "Input is a function."
      ],
      "metadata": {
        "id": "le6OyBYabSlk"
      }
    },
    {
      "cell_type": "code",
      "execution_count": 9,
      "metadata": {
        "colab": {
          "base_uri": "https://localhost:8080/"
        },
        "id": "lJcN588palQx",
        "outputId": "f5495880-6e65-4b17-f6c3-69dc44a469a5"
      },
      "outputs": [
        {
          "output_type": "stream",
          "name": "stdout",
          "text": [
            "Hello please type your first name: fg\n",
            "fg\n",
            "Hello please enter your height in Meters1.452\n",
            "1.452\n",
            "Please enter your age25\n",
            "25\n",
            "Do you know FC Bayern's Motto if so type it.mia\n",
            "mia\n",
            "Enter your age: 25\n",
            "You will be 35 in 10 years!\n",
            "Hello please enter your new usernamenoe510\n",
            "Welcome back user, here is your new username:noe510\n"
          ]
        }
      ],
      "source": [
        "# #1 Create and print a variable that contains a name using the `input()` function\n",
        "first_name = input(\"Hello please type your first name: \")\n",
        "print(first_name)\n",
        "\n",
        "# #2 Create and print a variable that contains a float using the `input()` function\n",
        "height_in_meters = float(input(\"Hello please enter your height in Meters\"))\n",
        "print(height_in_meters)\n",
        "\n",
        "#3 Create and print a variable that contains an integer using the `input()` function\n",
        "user_age = int(input(\"Please enter your age\"))\n",
        "print(user_age)\n",
        "\n",
        "#4 Create and print a variable that contains a string using the `input()` function\n",
        "bayern_motto = str(input(\"Do you know FC Bayern's Motto if so type it.\"))\n",
        "print(bayern_motto)\n",
        "\n",
        "#5 Create and print a variable that contains an integer using the `input()` function and add it to another variable\n",
        "num1 = int(input(\"Enter your age: \"))\n",
        "num2 = 10\n",
        "new_age = num1 + num2\n",
        "print(f\"You will be {new_age} in 10 years!\")\n",
        "\n",
        "#6 Using the `input()` function, create and print a statement which greets the user.\n",
        "new_username = str(input(\"Hello please enter your new username\"))\n",
        "print(f\"Welcome back user, here is your new username:{new_username}\")"
      ]
    },
    {
      "cell_type": "markdown",
      "source": [
        "# Conditionals\n",
        "\n",
        "Statements!\n",
        "\n",
        "\n",
        "*   IF statement, when true, a condition will happen\n",
        "*   There is always a colon `:` at the end\n",
        "*   The next line of code that follows the statement is   \n",
        "      always indented\n",
        "\n",
        "Set up:\n",
        "\n",
        "if _______:\n",
        "  (your code here)\n",
        "\n",
        "\n",
        "\n",
        "elif ________:\n",
        "  (your code here)\n",
        "\n",
        "\n",
        "\n",
        "else:\n",
        "  (your code here)"
      ],
      "metadata": {
        "id": "bx2wVaszjOP0"
      }
    },
    {
      "cell_type": "code",
      "source": [
        "# Voting Eligibility Checker\n",
        "\n",
        "# Step 1: Ask the user to enter their age\n",
        "voter_age = int(input(\"Please enter your age:\"))\n",
        "# Tell them a specific statement based off that age\n",
        "print(f\"You are {voter_age} years old.\")\n",
        "#Step 2.1\n",
        "# If the age is 18 or older, print that the user can vote\n",
        "\n",
        "#Step 2.2\n",
        "#Elif the user will be 18 in two years, tell them they can vote in two years\n",
        "if voter_age >= 18:\n",
        "  print(\"You are able to vote!\")\n",
        "elif voter_age +1 >= 18:\n",
        "  print(\"You can vote in 1 year!\")\n",
        "elif voter_age +2 >= 18:\n",
        "    print(\"You can vote in 2 years!\")\n",
        "else :\n",
        "  print(\"You cannot vote!\")\n",
        "#Step 2.3\n",
        "#If they aren't,\n",
        "#print that the user cannot vote yet"
      ],
      "metadata": {
        "colab": {
          "base_uri": "https://localhost:8080/"
        },
        "id": "P50wMht9jyXM",
        "outputId": "31aa5d19-bf7f-4126-c0b7-89605a96cc08"
      },
      "execution_count": 23,
      "outputs": [
        {
          "output_type": "stream",
          "name": "stdout",
          "text": [
            "Please enter your age:16\n",
            "You are 16 years old.\n",
            "You can vote in 2 years!\n"
          ]
        }
      ]
    },
    {
      "cell_type": "markdown",
      "source": [
        "#Guess the number activity"
      ],
      "metadata": {
        "id": "dephZZVYtgPq"
      }
    },
    {
      "cell_type": "code",
      "source": [
        "# The computer came up with a secret_number\n",
        "#The computer gave us a range\n",
        "# The user gave a guess as an integer\n",
        "# Computer checks IF it is the number\n",
        "# If number === computer number TRUE, YES\n",
        "#     the computer stopped the game\n",
        "# IF Not (!) than false\n",
        "#   The computer gave hints (lower than or higher than)\n",
        "#   it goes back to line #2, asking the user\n",
        "\n",
        "secret_number = 35\n",
        "\n",
        "user_guess = int(input(\"Give a number, between 10-39: \"))\n",
        "\n",
        "while user_guess != secret_number:\n",
        "  if user_guess < secret_number:\n",
        "    print(\"You guessed too low\")\n",
        "  elif user_guess > secret_number:\n",
        "    print('you guessed too high')\n",
        "\n",
        "  user_guess = int(input(\"Give a number, between 10-39: \"))\n",
        "\n",
        "if user_guess == secret_number:\n",
        "  print('You guessed it! good job')"
      ],
      "metadata": {
        "colab": {
          "base_uri": "https://localhost:8080/"
        },
        "id": "ZOo00qomtjRi",
        "outputId": "d9484a89-90a7-4a1d-c29f-2f8200af0e30"
      },
      "execution_count": 24,
      "outputs": [
        {
          "output_type": "stream",
          "name": "stdout",
          "text": [
            "Give a number, between 10-39: 5\n",
            "You guessed too low\n",
            "Give a number, between 10-39: 25\n",
            "You guessed too low\n",
            "Give a number, between 10-39: 38\n",
            "you guessed too high\n",
            "Give a number, between 10-39: 37\n",
            "you guessed too high\n",
            "Give a number, between 10-39: 35\n",
            "You guessed it! good job\n"
          ]
        }
      ]
    },
    {
      "cell_type": "markdown",
      "source": [
        "# Functions!!!!\n",
        "\n",
        "**What is a function?**\n",
        "\n",
        "Function is a resuable block of code\n",
        "\n",
        "They can take inputs, and give outputs.\n",
        "\n",
        "ex:\n",
        "input(), len(), int(), print()\n",
        "\n",
        "**What is the syntax to create a function?**\n",
        "\n",
        "\n",
        "\n",
        "1.   `def` key starts the function\n",
        "2.   followed by the function name `snake_case`\n",
        "3.   followed by a parenthesis `()`\n",
        "4.   ends with a colon `:`\n",
        "5.   Next lines of code is indented\n",
        "\n",
        "**What are parameters / arguments?**\n",
        "\n",
        "Variables listed inside of the parenthesis, can have multiple, separated by a comma\n",
        "\n",
        "**What is the syntax to call a function?**\n",
        "\n",
        "use function name, and then the parenthesis. If it takes an argument, you place that argument inside of the parenthesis"
      ],
      "metadata": {
        "id": "6DgQIy5Duaf7"
      }
    },
    {
      "cell_type": "code",
      "source": [
        "def my_greeting():\n",
        "  print(\"Hello and Welcome!\")\n",
        "\n",
        "def greet_name(name):\n",
        "  print(f\"Hello, {name}\")\n",
        "  my_greeting\n",
        "\n",
        "greet_name =(input(\"What is your name?\"))"
      ],
      "metadata": {
        "colab": {
          "base_uri": "https://localhost:8080/"
        },
        "id": "qClGpsLIucqp",
        "outputId": "4e54ec1b-6152-4e5e-afb8-f9d3ddb79e93"
      },
      "execution_count": 28,
      "outputs": [
        {
          "name": "stdout",
          "output_type": "stream",
          "text": [
            "What is your name?Noe \n"
          ]
        }
      ]
    }
  ]
}