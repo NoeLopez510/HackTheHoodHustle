{
  "nbformat": 4,
  "nbformat_minor": 0,
  "metadata": {
    "colab": {
      "provenance": [],
      "authorship_tag": "ABX9TyOHwM47ugP/MV5eOaP8yBkc",
      "include_colab_link": true
    },
    "kernelspec": {
      "name": "python3",
      "display_name": "Python 3"
    },
    "language_info": {
      "name": "python"
    }
  },
  "cells": [
    {
      "cell_type": "markdown",
      "metadata": {
        "id": "view-in-github",
        "colab_type": "text"
      },
      "source": [
        "<a href=\"https://colab.research.google.com/github/NoeLopez510/HackTheHoodHustle/blob/main/Tina_Example.ipynb\" target=\"_parent\"><img src=\"https://colab.research.google.com/assets/colab-badge.svg\" alt=\"Open In Colab\"/></a>"
      ]
    },
    {
      "cell_type": "code",
      "execution_count": null,
      "metadata": {
        "id": "WKrxYQ5SbIfw"
      },
      "outputs": [],
      "source": [
        "## Record of tiger team class, using Tina https://colab.research.google.com/drive/1eo-74UnwW_OqetWATECqCL_OhKFxogDa#scrollTo=WKrxYQ5SbIfw&line=1&uniqifier=1\n",
        "\n",
        "import turtle\n",
        "don = turtle.Turtle()\n",
        "don.shape('turtle')\n",
        "#Change tina --> to donatello to change name.\n",
        "#Have turtle move backwards\n",
        "#Have turtle say something else.\n",
        "don.penup()\n",
        "don.backward(20)\n",
        "don.write(\"Why, hello there!, Cowabunga!\")\n",
        "don.backward(50)\n",
        "don.right(50)\n",
        "don.forward(50)\n",
        "don.left(50)\n",
        "don.backward(20)\n",
        "\n",
        "##Moving\n",
        "import turtle\n",
        "tina = turtle.Turtle()\n",
        "tina.shape(\"turtle\")\n",
        "\n",
        "tina.forward(50)\n",
        "tina.left(90)\n",
        "tina.forward(50)\n",
        "tina.left(90)\n",
        "tina.forward(50)\n",
        "tina.left(90)\n",
        "tina.forward(50)\n",
        "\n",
        "##Color\n",
        "import turtle\n",
        "tina = turtle.Turtle()\n",
        "tina.shape('turtle')\n",
        "\n",
        "#Add another color\n",
        "#Have turtle add color\n",
        "\n",
        "tina.left(90)\n",
        "tina.forward(20)\n",
        "tina.write(\"What color am I now?\")\n",
        "\n",
        "tina.forward(20)\n",
        "tina.color(\"blue\")\n",
        "tina.write(\"What color am I now?\")\n",
        "\n",
        "tina.forward(20)\n",
        "tina.color(\"purple\")\n",
        "tina.write(\"What color am I now?\")\n",
        "\n",
        "tina.forward(20)\n",
        "tina.color(\"green\")\n",
        "tina.write(\"What color am I now?\")\n",
        "\n",
        "tina.forward(20)\n",
        "tina.color(\"cyan\")\n",
        "tina.write(\"What color am I now?\")\n",
        "\n",
        "tina.backward(100)\n",
        "tina.write(\" Wow, that's a lot of colors\")"
      ]
    }
  ]
}