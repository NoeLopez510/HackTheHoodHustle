{
  "nbformat": 4,
  "nbformat_minor": 0,
  "metadata": {
    "colab": {
      "provenance": [],
      "authorship_tag": "ABX9TyNSCOIC+gw2sGC8WNpoJMRe",
      "include_colab_link": true
    },
    "kernelspec": {
      "name": "python3",
      "display_name": "Python 3"
    },
    "language_info": {
      "name": "python"
    }
  },
  "cells": [
    {
      "cell_type": "markdown",
      "metadata": {
        "id": "view-in-github",
        "colab_type": "text"
      },
      "source": [
        "<a href=\"https://colab.research.google.com/github/NoeLopez510/HackTheHoodHustle/blob/main/Lab_June_20.ipynb\" target=\"_parent\"><img src=\"https://colab.research.google.com/assets/colab-badge.svg\" alt=\"Open In Colab\"/></a>"
      ]
    },
    {
      "cell_type": "markdown",
      "source": [
        "1) Must start with a Letter or _Underscore\n",
        "2) Consists of Letters, Numbers and Underscores But it will not starts with a Number\n",
        "3) Variable names are case sensitiv"
      ],
      "metadata": {
        "id": "-1BkDDE2N1xb"
      }
    },
    {
      "cell_type": "markdown",
      "source": [
        "### Psuedo code for my application\n",
        "I want to write a program that takes user input and prints it back to the screen.\n",
        "`First_name` the user's first name\n",
        "`Last_Name` the user's last name\n",
        "`Age` the user's age\n",
        "`Fav_Colour` the user's favourite colour\n",
        "`Fav_Sport` the user's favourite sport\n",
        "`Fav_Team` the user's favourite team\n",
        "use a 'built-in' process to take user's data.\n",
        "use a 'built-in' process to display user's data."
      ],
      "metadata": {
        "id": "GA24UwUMPpDd"
      }
    },
    {
      "cell_type": "markdown",
      "source": [
        "### Code for my application"
      ],
      "metadata": {
        "id": "O35rIS6rPwNP"
      }
    },
    {
      "cell_type": "code",
      "source": [
        "First_name = 'John'\n",
        "Last_Name = 'Connor'\n",
        "Age = 23\n",
        "Fav_Colour = 'Gray'\n",
        "Fav_Sport = 'Soccer'\n",
        "Fav_Team = 'Man U'"
      ],
      "metadata": {
        "id": "sebRPpETQURE"
      },
      "execution_count": 2,
      "outputs": []
    },
    {
      "cell_type": "code",
      "source": [
        "print(First_name)\n",
        "print(Last_Name)\n",
        "print(Age)\n",
        "print(Fav_Colour)\n",
        "print(Fav_Sport)\n",
        "print(Fav_Team)"
      ],
      "metadata": {
        "colab": {
          "base_uri": "https://localhost:8080/"
        },
        "id": "eYxiKLFaQrqC",
        "outputId": "25d69338-795c-46c3-a1f2-33bbd93b5275"
      },
      "execution_count": 5,
      "outputs": [
        {
          "output_type": "stream",
          "name": "stdout",
          "text": [
            "Noe\n",
            "Connor\n",
            "23\n",
            "Gray\n",
            "Soccer\n",
            "Man U\n"
          ]
        }
      ]
    },
    {
      "cell_type": "code",
      "source": [
        "First_name = input('What is your first name? ')"
      ],
      "metadata": {
        "colab": {
          "base_uri": "https://localhost:8080/"
        },
        "id": "98XCvLVGQwva",
        "outputId": "0b72bfb4-ff1d-4e6e-ef5c-42f675fa9060"
      },
      "execution_count": 4,
      "outputs": [
        {
          "name": "stdout",
          "output_type": "stream",
          "text": [
            "What is your first name? Noe\n"
          ]
        }
      ]
    },
    {
      "cell_type": "code",
      "source": [
        "First_name = input('What is your first name? ')\n",
        "# In this line I am using the input method to ask the user's first name\n",
        "\n",
        "Last_Name = input('What is your last name? ')\n",
        "#In this line I will use input method to ask the user's last name.\n",
        "\n",
        "Age = input('What is your age? ')\n",
        "#In this line I will use the input method to ask the user's age.\n",
        "\n",
        "Fav_Colour = input('What is your favourite colour? ')\n",
        "#In this line I am using input method to ask the user's fav color.\n",
        "\n",
        "Fav_Sport = input('What is your favourite sport? ')\n",
        "#In this line I am using the input method to ask the user's fav sport.\n",
        "\n",
        "Fav_Team = input('What is your favourite team? ')\n",
        "#In this line I am using the input method to ask the user's fav team."
      ],
      "metadata": {
        "colab": {
          "base_uri": "https://localhost:8080/"
        },
        "id": "vuDL2hs9Rrw5",
        "outputId": "5a87fa6d-30ce-43c4-d5d9-85cd26490dae"
      },
      "execution_count": 6,
      "outputs": [
        {
          "name": "stdout",
          "output_type": "stream",
          "text": [
            "What is your first name? Noe\n",
            "What is your last name? Lopez\n",
            "What is your age? 25\n",
            "What is your favourite colour? Red\n",
            "What is your favourite sport? Soccer\n",
            "What is your favourite team? Bayern Munich\n"
          ]
        }
      ]
    },
    {
      "cell_type": "code",
      "source": [
        "print(f\"User first name is, {First_name}, last name is, {Last_Name}, age is, {Age},\\\n",
        " favourite colour is, {Fav_Colour}, favourite sport is, {Fav_Sport}, favourite team is, {Fav_Team}\")"
      ],
      "metadata": {
        "colab": {
          "base_uri": "https://localhost:8080/"
        },
        "id": "f_JDUClJUnrt",
        "outputId": "9618e72c-0417-428a-9189-09c7b5de6f02"
      },
      "execution_count": 7,
      "outputs": [
        {
          "output_type": "stream",
          "name": "stdout",
          "text": [
            "User first name is, Noe, last name is, Lopez, age is, 25, favourite colour is, Red, favourite sport is, Soccer, favourite team is, Bayern Munich\n"
          ]
        }
      ]
    },
    {
      "cell_type": "code",
      "source": [],
      "metadata": {
        "id": "SRDtO6COW5Xw"
      },
      "execution_count": null,
      "outputs": []
    }
  ]
}