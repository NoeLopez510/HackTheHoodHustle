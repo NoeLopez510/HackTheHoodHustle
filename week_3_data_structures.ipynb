{
  "nbformat": 4,
  "nbformat_minor": 0,
  "metadata": {
    "colab": {
      "provenance": [],
      "authorship_tag": "ABX9TyPtpk+XVn/fawAP1VY9HXO/",
      "include_colab_link": true
    },
    "kernelspec": {
      "name": "python3",
      "display_name": "Python 3"
    },
    "language_info": {
      "name": "python"
    }
  },
  "cells": [
    {
      "cell_type": "markdown",
      "metadata": {
        "id": "view-in-github",
        "colab_type": "text"
      },
      "source": [
        "<a href=\"https://colab.research.google.com/github/NoeLopez510/HackTheHoodHustle/blob/main/week_3_data_structures.ipynb\" target=\"_parent\"><img src=\"https://colab.research.google.com/assets/colab-badge.svg\" alt=\"Open In Colab\"/></a>"
      ]
    },
    {
      "cell_type": "code",
      "execution_count": null,
      "metadata": {
        "id": "nESJn2dXInz5"
      },
      "outputs": [],
      "source": []
    },
    {
      "cell_type": "markdown",
      "source": [
        "# Make a dictionary of our food preferences"
      ],
      "metadata": {
        "id": "z0-3hDUHeB7I"
      }
    },
    {
      "cell_type": "code",
      "source": [
        "#1 Build food preferences dictionary\n",
        "\n",
        "food_preferences = {\n",
        "    \"noe\":{\n",
        "        \"likes\":[\"Burritos\", \"Pizza\"] ,\n",
        "        \"dislikes\":[\"Oysters\" , \"Chayote\"]\n",
        "    }\n",
        "\n",
        "}\n",
        "#print your second food that you like\n",
        "print(food_preferences)\n",
        "print(food_preferences[\"noe\"])\n",
        "print(food_preferences[\"noe\"][\"likes\"][1])\n",
        "\n",
        "print(\"Change it , manipulate the data\")\n",
        "\n",
        "#Add mac and cheese to likes\n",
        "food_preferences[\"noe\"][\"likes\"].append(\"mac and cheese\")\n",
        "\n",
        "print(food_preferences[\"noe\"][\"likes\"])\n",
        "\n",
        "print(\"let's remove dislikes\")\n",
        "food_preferences['noe'][\"dislikes\"].pop(0)\n"
      ],
      "metadata": {
        "colab": {
          "base_uri": "https://localhost:8080/",
          "height": 139
        },
        "id": "knviE8nEeJf0",
        "outputId": "0d58eb51-6d3c-4a9b-f3b5-d36d6dc7351b"
      },
      "execution_count": 3,
      "outputs": [
        {
          "output_type": "stream",
          "name": "stdout",
          "text": [
            "{'noe': {'likes': ['Burritos', 'Pizza'], 'dislikes': ['Oysters', 'Chayote']}}\n",
            "{'likes': ['Burritos', 'Pizza'], 'dislikes': ['Oysters', 'Chayote']}\n",
            "Pizza\n",
            "Change it , manipulate the data\n",
            "['Burritos', 'Pizza', 'mac and cheese']\n",
            "let's remove dislikes\n"
          ]
        },
        {
          "output_type": "execute_result",
          "data": {
            "text/plain": [
              "'Oysters'"
            ],
            "application/vnd.google.colaboratory.intrinsic+json": {
              "type": "string"
            }
          },
          "metadata": {},
          "execution_count": 3
        }
      ]
    },
    {
      "cell_type": "markdown",
      "source": [
        "Meal Options Activity\n"
      ],
      "metadata": {
        "id": "6P3vgjs5lTpI"
      }
    },
    {
      "cell_type": "code",
      "source": [
        "meal_options = {\n",
        "    \"breakfast\": {\n",
        "        \"food\": [\"pancakes\", \"waffles\", \"fruit\"],\n",
        "        \"drinks\": [\"coffee\", \"black tea\", \"smoothie\", \"water\"]\n",
        "    },\n",
        "    \"lunch\": {\n",
        "        \"food\": [\"sandwich\", \"dumplings\"],\n",
        "        \"drinks\": [\"water\", \"green tea\", \"soda\"]\n",
        "    },\n",
        "    \"dinner\": {\n",
        "        \"food\": [\"ramen\", \"risotto\"],\n",
        "        \"drinks\": [\"water\", \"chamomile tea\"]\n",
        "    }\n",
        "}\n",
        "#1. Print meal options\n",
        "print(\"All the options\")\n",
        "print(meal_options)"
      ],
      "metadata": {
        "colab": {
          "base_uri": "https://localhost:8080/"
        },
        "id": "UxwgAOBukTgJ",
        "outputId": "bcccd06c-8176-472a-d527-f3cbb1be2fe8"
      },
      "execution_count": 4,
      "outputs": [
        {
          "output_type": "stream",
          "name": "stdout",
          "text": [
            "{'breakfast': {'food': ['pancakes', 'waffles', 'fruit'], 'drinks': ['coffee', 'black tea', 'smoothie', 'water']}, 'lunch': {'food': ['sandwich', 'dumplings'], 'drinks': ['water', 'green tea', 'soda']}, 'dinner': {'food': ['ramen', 'risotto'], 'drinks': ['water', 'chamomile tea']}}\n"
          ]
        }
      ]
    },
    {
      "cell_type": "code",
      "source": [],
      "metadata": {
        "id": "0LKocDQVlzUp"
      },
      "execution_count": null,
      "outputs": []
    }
  ]
}